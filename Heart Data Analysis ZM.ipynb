{
 "cells": [
  {
   "cell_type": "code",
   "execution_count": 2,
   "id": "2e8dcfe5",
   "metadata": {},
   "outputs": [],
   "source": [
    "import numpy as np"
   ]
  },
  {
   "cell_type": "code",
   "execution_count": 3,
   "id": "908a2b91",
   "metadata": {},
   "outputs": [
    {
     "data": {
      "text/plain": [
       "array([[63.,  1.,  3., ...,  0.,  1.,  1.],\n",
       "       [37.,  1.,  2., ...,  0.,  2.,  1.],\n",
       "       [41.,  0.,  1., ...,  0.,  2.,  1.],\n",
       "       ...,\n",
       "       [68.,  1.,  0., ...,  2.,  3.,  0.],\n",
       "       [57.,  1.,  0., ...,  1.,  3.,  0.],\n",
       "       [57.,  0.,  1., ...,  1.,  2.,  0.]])"
      ]
     },
     "execution_count": 3,
     "metadata": {},
     "output_type": "execute_result"
    }
   ],
   "source": [
    "data=np.genfromtxt(\"heart.csv\",delimiter=\",\",skip_header=True)\n",
    "data"
   ]
  },
  {
   "cell_type": "code",
   "execution_count": 4,
   "id": "3d905f73",
   "metadata": {},
   "outputs": [
    {
     "name": "stdout",
     "output_type": "stream",
     "text": [
      "Age: [63. 37. 41. 56. 57.]\n",
      "Sex: [1. 1. 0. 1. 0.]\n",
      "Resting heart rate: [145. 130. 130. 120. 120.]\n",
      "Cholesterol: [233. 250. 204. 236. 354.]\n",
      "Target: [1. 1. 1. 1. 1.]\n"
     ]
    }
   ],
   "source": [
    "age=data[:,0]\n",
    "print(f\"Age: {age[:5]}\")\n",
    "sex=data[:,1]\n",
    "print(f\"Sex: {sex[:5]}\")\n",
    "trbps=data[:,3]\n",
    "print(f\"Resting heart rate: {trbps[:5]}\")\n",
    "chol=data[:,4]\n",
    "print(f\"Cholesterol: {chol[:5]}\")\n",
    "target=data[:,13]\n",
    "print(f\"Target: {target[:5]}\")"
   ]
  },
  {
   "cell_type": "markdown",
   "id": "1aa1226f",
   "metadata": {},
   "source": [
    "## Basic Desciptive Statistics on Five Categories\n",
    "#### Age, Sex, Resting Blood Pressure, Cholesterol Levels, and Target\n",
    "#### (Sex is considered as Men=0 and Women=1)\n",
    "#### (Target is considered as yes=1 and no=0)"
   ]
  },
  {
   "cell_type": "code",
   "execution_count": 5,
   "id": "f220d9b1",
   "metadata": {},
   "outputs": [
    {
     "name": "stdout",
     "output_type": "stream",
     "text": [
      "---Basic Descriptive Statistics on Age---\n",
      "Mean: 54\n",
      "Median: 55.0\n",
      "Standard Deviation: 9\n",
      "Min: 29.0\n",
      "Max: 77.0\n"
     ]
    }
   ],
   "source": [
    "# age\n",
    "print(\"---Basic Descriptive Statistics on Age---\")\n",
    "print(f\"Mean: {round(np.mean(age))}\")\n",
    "print(f\"Median: {(np.median(age))}\")\n",
    "print(f\"Standard Deviation: {round(np.std(age))}\")\n",
    "print(f\"Min: {np.min(age)}\")\n",
    "print(f\"Max: {np.max(age)}\")"
   ]
  },
  {
   "cell_type": "code",
   "execution_count": 12,
   "id": "aa9acaaf",
   "metadata": {},
   "outputs": [
    {
     "name": "stdout",
     "output_type": "stream",
     "text": [
      "---Basic Descriptive Statistics on Sex---\n",
      "Amount of Men: 96\n",
      "Amount of Women: 207\n"
     ]
    }
   ],
   "source": [
    "# sex (Men is 0, Women is 1)\n",
    "print(\"---Basic Descriptive Statistics on Sex---\")\n",
    "fildata0=data[(sex==0)]\n",
    "print(f\"Amount of Men: {len(fildata0)}\")\n",
    "fildata1=data[(sex==1)]\n",
    "print(f\"Amount of Women: {len(fildata1)}\")"
   ]
  },
  {
   "cell_type": "code",
   "execution_count": 17,
   "id": "5e543dc7",
   "metadata": {},
   "outputs": [
    {
     "name": "stdout",
     "output_type": "stream",
     "text": [
      "---Basic Descriptive Statistics on Resting Blood Pressure---\n",
      "Mean: 132\n",
      "Median: 130.0\n",
      "Standard Deviation: 18\n",
      "Min: 94.0\n",
      "Max: 200.0\n"
     ]
    }
   ],
   "source": [
    "# resting heart rate\n",
    "print(\"---Basic Descriptive Statistics on Resting Blood Pressure---\")\n",
    "print(f\"Mean: {round(np.mean(trbps))}\")\n",
    "print(f\"Median: {(np.median(trbps))}\")\n",
    "print(f\"Standard Deviation: {round(np.std(trbps))}\")\n",
    "print(f\"Min: {np.min(trbps)}\")\n",
    "print(f\"Max: {np.max(trbps)}\")"
   ]
  },
  {
   "cell_type": "code",
   "execution_count": 14,
   "id": "5a43de5a",
   "metadata": {},
   "outputs": [
    {
     "name": "stdout",
     "output_type": "stream",
     "text": [
      "---Basic Descriptive Statistics on Cholesterol---\n",
      "Mean: 246\n",
      "Median: 240.0\n",
      "Standard Deviation: 52\n",
      "Min: 126.0\n",
      "Max: 564.0\n"
     ]
    }
   ],
   "source": [
    "# cholesterol\n",
    "print(\"---Basic Descriptive Statistics on Cholesterol---\")\n",
    "print(f\"Mean: {round(np.mean(chol))}\")\n",
    "print(f\"Median: {(np.median(chol))}\")\n",
    "print(f\"Standard Deviation: {round(np.std(chol))}\")\n",
    "print(f\"Min: {np.min(chol)}\")\n",
    "print(f\"Max: {np.max(chol)}\")"
   ]
  },
  {
   "cell_type": "code",
   "execution_count": 15,
   "id": "d4c545f5",
   "metadata": {},
   "outputs": [
    {
     "name": "stdout",
     "output_type": "stream",
     "text": [
      "---Basic Descriptive Statistics on Target---\n",
      "No: 138\n",
      "Yes: 165\n"
     ]
    }
   ],
   "source": [
    "# Do they have heart disease? (1=yes, 0=no)\n",
    "print(\"---Basic Descriptive Statistics on Target---\")\n",
    "fildata2=data[(target==0)]\n",
    "print(f\"No: {len(fildata2)}\")\n",
    "fildata3=data[target==1]\n",
    "print(f\"Yes: {len(fildata3)}\")"
   ]
  },
  {
   "cell_type": "markdown",
   "id": "a0481982",
   "metadata": {},
   "source": [
    "## Data Filtering"
   ]
  },
  {
   "cell_type": "markdown",
   "id": "c860d031",
   "metadata": {},
   "source": [
    "#### Does age determine higher likelyhood of having heart disease?"
   ]
  },
  {
   "cell_type": "code",
   "execution_count": 18,
   "id": "c7ae5485",
   "metadata": {},
   "outputs": [
    {
     "name": "stdout",
     "output_type": "stream",
     "text": [
      "Number of people over 50 in sample: 215\n",
      "Number of people over 50 with heart disease: 103\n"
     ]
    }
   ],
   "source": [
    "#Older people diagnosed with heart disease\n",
    "fildata_old=data[(age>=50)&(target==1)]\n",
    "oldfil=data[(age>=50)]\n",
    "print(f\"Number of people over 50 in sample: {len(oldfil)}\")\n",
    "print(f\"Number of people over 50 with heart disease: {len(fildata_old)}\")"
   ]
  },
  {
   "cell_type": "markdown",
   "id": "f8ee7270",
   "metadata": {},
   "source": [
    "#### Does sex affect likelyhood of heart disease?"
   ]
  },
  {
   "cell_type": "code",
   "execution_count": 19,
   "id": "fd9fcf03",
   "metadata": {},
   "outputs": [
    {
     "name": "stdout",
     "output_type": "stream",
     "text": [
      "Number of women in sample: 207\n",
      "Number of women with heart disease: 93\n"
     ]
    }
   ],
   "source": [
    "#Women diagnosed with heart disease\n",
    "wcount=data[sex==1]\n",
    "print(f\"Number of women in sample: {len(wcount)}\")\n",
    "wfil=data[(sex==1)&(target==1)]\n",
    "print(f\"Number of women with heart disease: {len(wfil)}\")"
   ]
  },
  {
   "cell_type": "code",
   "execution_count": 20,
   "id": "a1ab8448",
   "metadata": {},
   "outputs": [
    {
     "name": "stdout",
     "output_type": "stream",
     "text": [
      "Number of women in sample: 96\n",
      "Number of women with heart disease: 72\n"
     ]
    }
   ],
   "source": [
    "#Men with diagnosed with heart disease\n",
    "mcount=data[sex==0]\n",
    "print(f\"Number of women in sample: {len(mcount)}\")\n",
    "mfil=data[(sex==0)&(target==1)]\n",
    "print(f\"Number of women with heart disease: {len(mfil)}\")"
   ]
  },
  {
   "cell_type": "markdown",
   "id": "931da981",
   "metadata": {},
   "source": [
    "## Correlation"
   ]
  },
  {
   "cell_type": "code",
   "execution_count": 21,
   "id": "56e1986d",
   "metadata": {},
   "outputs": [
    {
     "name": "stdout",
     "output_type": "stream",
     "text": [
      "Correlation between cholesterol levels and resting blood pressure: [[1.         0.12317421]\n",
      " [0.12317421 1.        ]]\n"
     ]
    }
   ],
   "source": [
    "corr_chol=np.corrcoef(chol,trbps,rowvar=False)\n",
    "print(f\"Correlation between cholesterol levels and resting blood pressure: {corr_chol}\")"
   ]
  },
  {
   "cell_type": "code",
   "execution_count": null,
   "id": "047d7a83",
   "metadata": {},
   "outputs": [],
   "source": []
  }
 ],
 "metadata": {
  "kernelspec": {
   "display_name": "Python 3 (ipykernel)",
   "language": "python",
   "name": "python3"
  },
  "language_info": {
   "codemirror_mode": {
    "name": "ipython",
    "version": 3
   },
   "file_extension": ".py",
   "mimetype": "text/x-python",
   "name": "python",
   "nbconvert_exporter": "python",
   "pygments_lexer": "ipython3",
   "version": "3.11.4"
  }
 },
 "nbformat": 4,
 "nbformat_minor": 5
}
